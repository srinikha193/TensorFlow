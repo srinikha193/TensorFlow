{
  "nbformat": 4,
  "nbformat_minor": 0,
  "metadata": {
    "colab": {
      "provenance": [],
      "authorship_tag": "ABX9TyMbXVtVxUKgzsV4DSK/Karh",
      "include_colab_link": true
    },
    "kernelspec": {
      "name": "python3",
      "display_name": "Python 3"
    },
    "language_info": {
      "name": "python"
    }
  },
  "cells": [
    {
      "cell_type": "markdown",
      "metadata": {
        "id": "view-in-github",
        "colab_type": "text"
      },
      "source": [
        "<a href=\"https://colab.research.google.com/github/srinikha193/TensorFlow/blob/main/DataC_TF.ipynb\" target=\"_parent\"><img src=\"https://colab.research.google.com/assets/colab-badge.svg\" alt=\"Open In Colab\"/></a>"
      ]
    },
    {
      "cell_type": "code",
      "execution_count": 1,
      "metadata": {
        "id": "IFeU1-dGWF69"
      },
      "outputs": [],
      "source": [
        "import tensorflow as tf\n",
        "import numpy as np\n",
        "#0D Tensor\n",
        "d0=tf.ones((1,))"
      ]
    },
    {
      "cell_type": "code",
      "source": [
        "#1D\n",
        "d1=tf.ones((2,))"
      ],
      "metadata": {
        "id": "aj9GtxL_Wt3V"
      },
      "execution_count": 3,
      "outputs": []
    },
    {
      "cell_type": "code",
      "source": [
        "d0"
      ],
      "metadata": {
        "colab": {
          "base_uri": "https://localhost:8080/"
        },
        "id": "T81I4lNGWz0b",
        "outputId": "2018fb91-4aae-4919-c962-ae95d7c17140"
      },
      "execution_count": 4,
      "outputs": [
        {
          "output_type": "execute_result",
          "data": {
            "text/plain": [
              "<tf.Tensor: shape=(1,), dtype=float32, numpy=array([1.], dtype=float32)>"
            ]
          },
          "metadata": {},
          "execution_count": 4
        }
      ]
    },
    {
      "cell_type": "code",
      "source": [
        "print(d1.numpy())"
      ],
      "metadata": {
        "colab": {
          "base_uri": "https://localhost:8080/"
        },
        "id": "Ur_1f27nW6jj",
        "outputId": "3c20548d-122c-4838-ab47-8445d5413812"
      },
      "execution_count": 5,
      "outputs": [
        {
          "output_type": "stream",
          "name": "stdout",
          "text": [
            "[1. 1.]\n"
          ]
        }
      ]
    },
    {
      "cell_type": "code",
      "source": [
        "#2d\n",
        "d2=tf.ones((2,2))\n",
        "print(d2.numpy())"
      ],
      "metadata": {
        "colab": {
          "base_uri": "https://localhost:8080/"
        },
        "id": "DN2X3W3SYlDU",
        "outputId": "3dd32fa8-4068-4a67-e676-bd9b7ae0f994"
      },
      "execution_count": 9,
      "outputs": [
        {
          "output_type": "stream",
          "name": "stdout",
          "text": [
            "[[1. 1.]\n",
            " [1. 1.]]\n"
          ]
        }
      ]
    },
    {
      "cell_type": "code",
      "source": [
        "#so creating 3d array\n",
        "d3=tf.ones((2,2,4))\n",
        "print(d3.numpy())"
      ],
      "metadata": {
        "colab": {
          "base_uri": "https://localhost:8080/"
        },
        "id": "Lx5y1x9UXVub",
        "outputId": "d7391dd5-8858-49b6-c489-10b7c72e3243"
      },
      "execution_count": 11,
      "outputs": [
        {
          "output_type": "stream",
          "name": "stdout",
          "text": [
            "[[[1. 1. 1. 1.]\n",
            "  [1. 1. 1. 1.]]\n",
            "\n",
            " [[1. 1. 1. 1.]\n",
            "  [1. 1. 1. 1.]]]\n"
          ]
        }
      ]
    },
    {
      "cell_type": "markdown",
      "source": [
        "Constants and variables\n"
      ],
      "metadata": {
        "id": "C3_QB8uLZHtf"
      }
    },
    {
      "cell_type": "code",
      "source": [
        "from tensorflow import constant\n",
        "#defining 2*3 constant\n",
        "a=constant(3,shape=[2,3])\n",
        "a"
      ],
      "metadata": {
        "colab": {
          "base_uri": "https://localhost:8080/"
        },
        "id": "Gf7Y5G1VZMya",
        "outputId": "5d3b7563-3769-4f65-a789-e869c85ae833"
      },
      "execution_count": 13,
      "outputs": [
        {
          "output_type": "execute_result",
          "data": {
            "text/plain": [
              "<tf.Tensor: shape=(2, 3), dtype=int32, numpy=\n",
              "array([[3, 3, 3],\n",
              "       [3, 3, 3]], dtype=int32)>"
            ]
          },
          "metadata": {},
          "execution_count": 13
        }
      ]
    },
    {
      "cell_type": "code",
      "source": [
        "b=constant([1,2,3,4],shape=[1,4])\n",
        "b"
      ],
      "metadata": {
        "colab": {
          "base_uri": "https://localhost:8080/"
        },
        "id": "Ijpz-ZKxaNbr",
        "outputId": "c5bd417d-71fe-4dd8-895b-c0e9edd21951"
      },
      "execution_count": 17,
      "outputs": [
        {
          "output_type": "execute_result",
          "data": {
            "text/plain": [
              "<tf.Tensor: shape=(1, 4), dtype=int32, numpy=array([[1, 2, 3, 4]], dtype=int32)>"
            ]
          },
          "metadata": {},
          "execution_count": 17
        }
      ]
    },
    {
      "cell_type": "code",
      "source": [
        "#defining a variable,V casesnetive\n",
        "a0=tf.Variable([1,2,3,4,5],dtype=tf.float32)\n",
        "a1=tf.Variable([1,2,3,4,5],dtype=tf.int16)#can't be used becoz only same datatype can be multiplied\n",
        "#definin g constants\n",
        "#for addition both tensors shoul dhave same shape\n",
        "b=tf.constant(2,tf.float32)\n",
        "#computing the product\n",
        "c0=tf.multiply(a0,b)\n",
        "c1=a0*b\n",
        "print(c1)\n",
        "print(c0)"
      ],
      "metadata": {
        "colab": {
          "base_uri": "https://localhost:8080/"
        },
        "id": "fV6wcNFbaYUK",
        "outputId": "14124aec-1575-4ff3-d3c0-6b67fe38e0c0"
      },
      "execution_count": 27,
      "outputs": [
        {
          "output_type": "stream",
          "name": "stdout",
          "text": [
            "tf.Tensor([ 2.  4.  6.  8. 10.], shape=(5,), dtype=float32)\n",
            "tf.Tensor([ 2.  4.  6.  8. 10.], shape=(5,), dtype=float32)\n"
          ]
        }
      ]
    },
    {
      "cell_type": "code",
      "source": [
        "a=tf.ones([2,3,4])\n",
        "print(a.numpy())"
      ],
      "metadata": {
        "colab": {
          "base_uri": "https://localhost:8080/"
        },
        "id": "EImaOUlgb4ya",
        "outputId": "ef60b33d-b9b0-4f10-c7cf-674963318fb4"
      },
      "execution_count": 30,
      "outputs": [
        {
          "output_type": "stream",
          "name": "stdout",
          "text": [
            "[[[1. 1. 1. 1.]\n",
            "  [1. 1. 1. 1.]\n",
            "  [1. 1. 1. 1.]]\n",
            "\n",
            " [[1. 1. 1. 1.]\n",
            "  [1. 1. 1. 1.]\n",
            "  [1. 1. 1. 1.]]]\n"
          ]
        }
      ]
    },
    {
      "cell_type": "code",
      "source": [
        "b=tf.reduce_sum(a)\n",
        "b\n",
        "#summing over dimensions of a\n",
        "B0=reduce_sum(a,0)"
      ],
      "metadata": {
        "colab": {
          "base_uri": "https://localhost:8080/"
        },
        "id": "HieOBqxSil-s",
        "outputId": "509b4c5a-f58c-4447-e63e-f070db8a4cfe"
      },
      "execution_count": 33,
      "outputs": [
        {
          "output_type": "execute_result",
          "data": {
            "text/plain": [
              "<tf.Tensor: shape=(), dtype=float32, numpy=24.0>"
            ]
          },
          "metadata": {},
          "execution_count": 33
        }
      ]
    },
    {
      "cell_type": "code",
      "source": [],
      "metadata": {
        "id": "SetAIu03ix17"
      },
      "execution_count": null,
      "outputs": []
    }
  ]
}