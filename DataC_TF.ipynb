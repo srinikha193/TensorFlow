{
  "nbformat": 4,
  "nbformat_minor": 0,
  "metadata": {
    "colab": {
      "provenance": [],
      "authorship_tag": "ABX9TyMq7lZ3BfG82NNktGMh2GC7",
      "include_colab_link": true
    },
    "kernelspec": {
      "name": "python3",
      "display_name": "Python 3"
    },
    "language_info": {
      "name": "python"
    }
  },
  "cells": [
    {
      "cell_type": "markdown",
      "metadata": {
        "id": "view-in-github",
        "colab_type": "text"
      },
      "source": [
        "<a href=\"https://colab.research.google.com/github/srinikha193/TensorFlow/blob/main/DataC_TF.ipynb\" target=\"_parent\"><img src=\"https://colab.research.google.com/assets/colab-badge.svg\" alt=\"Open In Colab\"/></a>"
      ]
    },
    {
      "cell_type": "code",
      "execution_count": 1,
      "metadata": {
        "id": "IFeU1-dGWF69"
      },
      "outputs": [],
      "source": [
        "import tensorflow as tf\n",
        "import numpy as np\n",
        "#0D Tensor\n",
        "d0=tf.ones((1,))"
      ]
    },
    {
      "cell_type": "code",
      "source": [
        "#1D\n",
        "d1=tf.ones((2,))"
      ],
      "metadata": {
        "id": "aj9GtxL_Wt3V"
      },
      "execution_count": 3,
      "outputs": []
    },
    {
      "cell_type": "code",
      "source": [
        "d0"
      ],
      "metadata": {
        "colab": {
          "base_uri": "https://localhost:8080/"
        },
        "id": "T81I4lNGWz0b",
        "outputId": "2018fb91-4aae-4919-c962-ae95d7c17140"
      },
      "execution_count": 4,
      "outputs": [
        {
          "output_type": "execute_result",
          "data": {
            "text/plain": [
              "<tf.Tensor: shape=(1,), dtype=float32, numpy=array([1.], dtype=float32)>"
            ]
          },
          "metadata": {},
          "execution_count": 4
        }
      ]
    },
    {
      "cell_type": "code",
      "source": [
        "print(d1.numpy())"
      ],
      "metadata": {
        "colab": {
          "base_uri": "https://localhost:8080/"
        },
        "id": "Ur_1f27nW6jj",
        "outputId": "3c20548d-122c-4838-ab47-8445d5413812"
      },
      "execution_count": 5,
      "outputs": [
        {
          "output_type": "stream",
          "name": "stdout",
          "text": [
            "[1. 1.]\n"
          ]
        }
      ]
    },
    {
      "cell_type": "code",
      "source": [
        "#2d\n",
        "d2=tf.ones((2,2))\n",
        "print(d2.numpy())"
      ],
      "metadata": {
        "colab": {
          "base_uri": "https://localhost:8080/"
        },
        "id": "DN2X3W3SYlDU",
        "outputId": "3dd32fa8-4068-4a67-e676-bd9b7ae0f994"
      },
      "execution_count": 9,
      "outputs": [
        {
          "output_type": "stream",
          "name": "stdout",
          "text": [
            "[[1. 1.]\n",
            " [1. 1.]]\n"
          ]
        }
      ]
    },
    {
      "cell_type": "code",
      "source": [
        "#so creating 3d array\n",
        "d3=tf.ones((2,2,4))\n",
        "print(d3.numpy())"
      ],
      "metadata": {
        "colab": {
          "base_uri": "https://localhost:8080/"
        },
        "id": "Lx5y1x9UXVub",
        "outputId": "d7391dd5-8858-49b6-c489-10b7c72e3243"
      },
      "execution_count": 11,
      "outputs": [
        {
          "output_type": "stream",
          "name": "stdout",
          "text": [
            "[[[1. 1. 1. 1.]\n",
            "  [1. 1. 1. 1.]]\n",
            "\n",
            " [[1. 1. 1. 1.]\n",
            "  [1. 1. 1. 1.]]]\n"
          ]
        }
      ]
    },
    {
      "cell_type": "markdown",
      "source": [
        "Constants and variables\n"
      ],
      "metadata": {
        "id": "C3_QB8uLZHtf"
      }
    },
    {
      "cell_type": "code",
      "source": [
        "from tensorflow import constant\n",
        "#defining 2*3 constant\n",
        "a=constant(3,shape=[2,3])\n",
        "a"
      ],
      "metadata": {
        "colab": {
          "base_uri": "https://localhost:8080/"
        },
        "id": "Gf7Y5G1VZMya",
        "outputId": "5d3b7563-3769-4f65-a789-e869c85ae833"
      },
      "execution_count": 13,
      "outputs": [
        {
          "output_type": "execute_result",
          "data": {
            "text/plain": [
              "<tf.Tensor: shape=(2, 3), dtype=int32, numpy=\n",
              "array([[3, 3, 3],\n",
              "       [3, 3, 3]], dtype=int32)>"
            ]
          },
          "metadata": {},
          "execution_count": 13
        }
      ]
    },
    {
      "cell_type": "code",
      "source": [
        "b=constant([1,2,3,4],shape=[1,4])\n",
        "b"
      ],
      "metadata": {
        "colab": {
          "base_uri": "https://localhost:8080/"
        },
        "id": "Ijpz-ZKxaNbr",
        "outputId": "c5bd417d-71fe-4dd8-895b-c0e9edd21951"
      },
      "execution_count": 17,
      "outputs": [
        {
          "output_type": "execute_result",
          "data": {
            "text/plain": [
              "<tf.Tensor: shape=(1, 4), dtype=int32, numpy=array([[1, 2, 3, 4]], dtype=int32)>"
            ]
          },
          "metadata": {},
          "execution_count": 17
        }
      ]
    },
    {
      "cell_type": "code",
      "source": [
        "#defining a variable,V casesnetive\n",
        "a0=tf.Variable([1,2,3,4,5],dtype=tf.float32)\n",
        "a1=tf.Variable([1,2,3,4,5],dtype=tf.int16)#can't be used becoz only same datatype can be multiplied\n",
        "#definin g constants\n",
        "#for addition both tensors shoul dhave same shape\n",
        "b=tf.constant(2,tf.float32)\n",
        "#computing the product\n",
        "c0=tf.multiply(a0,b)\n",
        "c1=a0*b\n",
        "print(c1)\n",
        "print(c0)"
      ],
      "metadata": {
        "colab": {
          "base_uri": "https://localhost:8080/"
        },
        "id": "fV6wcNFbaYUK",
        "outputId": "14124aec-1575-4ff3-d3c0-6b67fe38e0c0"
      },
      "execution_count": 27,
      "outputs": [
        {
          "output_type": "stream",
          "name": "stdout",
          "text": [
            "tf.Tensor([ 2.  4.  6.  8. 10.], shape=(5,), dtype=float32)\n",
            "tf.Tensor([ 2.  4.  6.  8. 10.], shape=(5,), dtype=float32)\n"
          ]
        }
      ]
    },
    {
      "cell_type": "code",
      "source": [
        "a=tf.ones([2,3,4])\n",
        "print(a.numpy())"
      ],
      "metadata": {
        "colab": {
          "base_uri": "https://localhost:8080/"
        },
        "id": "EImaOUlgb4ya",
        "outputId": "ef60b33d-b9b0-4f10-c7cf-674963318fb4"
      },
      "execution_count": 30,
      "outputs": [
        {
          "output_type": "stream",
          "name": "stdout",
          "text": [
            "[[[1. 1. 1. 1.]\n",
            "  [1. 1. 1. 1.]\n",
            "  [1. 1. 1. 1.]]\n",
            "\n",
            " [[1. 1. 1. 1.]\n",
            "  [1. 1. 1. 1.]\n",
            "  [1. 1. 1. 1.]]]\n"
          ]
        }
      ]
    },
    {
      "cell_type": "code",
      "source": [
        "b=tf.reduce_sum(a)\n",
        "b\n",
        "#summing over dimensions of a\n",
        "B0=reduce_sum(a,0)"
      ],
      "metadata": {
        "colab": {
          "base_uri": "https://localhost:8080/"
        },
        "id": "HieOBqxSil-s",
        "outputId": "509b4c5a-f58c-4447-e63e-f070db8a4cfe"
      },
      "execution_count": 33,
      "outputs": [
        {
          "output_type": "execute_result",
          "data": {
            "text/plain": [
              "<tf.Tensor: shape=(), dtype=float32, numpy=24.0>"
            ]
          },
          "metadata": {},
          "execution_count": 33
        }
      ]
    },
    {
      "cell_type": "code",
      "source": [
        "#gradients in Ts\n",
        "#define x\n",
        "x=tf.Variable(-1.0)\n",
        "#define y within instance of gradient type\n",
        "with tf.GradientTape() as tape:\n",
        "  tape.watch(x)\n",
        "  y=tf.multiply(x,x)\n",
        "#evaluate the gradient of y at x=-1\n",
        "g=tape.gradient(y,x)\n",
        "print(g.numpy() )"
      ],
      "metadata": {
        "colab": {
          "base_uri": "https://localhost:8080/"
        },
        "id": "SetAIu03ix17",
        "outputId": "53608886-8559-41b4-9d8a-3369ea47fdad"
      },
      "execution_count": 35,
      "outputs": [
        {
          "output_type": "stream",
          "name": "stdout",
          "text": [
            "-2.0\n"
          ]
        }
      ]
    },
    {
      "cell_type": "code",
      "source": [
        "#reshaping a grayscale image\n",
        "gray=tf.random.uniform([2,2,2],maxval=245,dtype=tf.int32)\n",
        "print(gray.numpy())\n",
        "gray=tf.reshape(gray,[2*2*2,1])\n",
        "print(gray.numpy())"
      ],
      "metadata": {
        "colab": {
          "base_uri": "https://localhost:8080/"
        },
        "id": "8Ky8dmK538sJ",
        "outputId": "238529e8-2126-43fc-e78f-85e0ba791757"
      },
      "execution_count": 40,
      "outputs": [
        {
          "output_type": "stream",
          "name": "stdout",
          "text": [
            "[[[100 115]\n",
            "  [ 54  55]]\n",
            "\n",
            " [[150  48]\n",
            "  [176  28]]]\n",
            "[[100]\n",
            " [115]\n",
            " [ 54]\n",
            " [ 55]\n",
            " [150]\n",
            " [ 48]\n",
            " [176]\n",
            " [ 28]]\n"
          ]
        }
      ]
    },
    {
      "cell_type": "code",
      "source": [
        "import tensorflow as tf\n",
        "\n",
        "# Define targets and predictions with sample data\n",
        "targets = tf.constant([1.0, 2.0, 3.0, 4.0])  # Example target values\n",
        "predictions = tf.constant([1.2, 1.9, 3.1, 3.9])  # Example prediction values\n",
        "\n",
        "# Calculate the mean squared error\n",
        "loss = tf.keras.losses.mse(targets, predictions)\n",
        "\n",
        "# Print the loss\n",
        "print(loss.numpy())"
      ],
      "metadata": {
        "colab": {
          "base_uri": "https://localhost:8080/"
        },
        "id": "dacDkDMawU8-",
        "outputId": "f06d7a05-f0d3-4c61-dc37-70a8078c7c84"
      },
      "execution_count": 3,
      "outputs": [
        {
          "output_type": "stream",
          "name": "stdout",
          "text": [
            "0.017499996\n"
          ]
        }
      ]
    },
    {
      "cell_type": "code",
      "source": [
        "def linear_regression(intercept, slope = slope, features=features):\n",
        "  return intercept+features*slope"
      ],
      "metadata": {
        "colab": {
          "base_uri": "https://localhost:8080/",
          "height": 158
        },
        "id": "INWf0JFZ7y_o",
        "outputId": "0f02182b-beaf-48bc-c32e-7964b6aeeee4"
      },
      "execution_count": 4,
      "outputs": [
        {
          "output_type": "error",
          "ename": "NameError",
          "evalue": "name 'slope' is not defined",
          "traceback": [
            "\u001b[0;31m---------------------------------------------------------------------------\u001b[0m",
            "\u001b[0;31mNameError\u001b[0m                                 Traceback (most recent call last)",
            "\u001b[0;32m<ipython-input-4-74981b9ee97a>\u001b[0m in \u001b[0;36m<cell line: 1>\u001b[0;34m()\u001b[0m\n\u001b[0;32m----> 1\u001b[0;31m \u001b[0;32mdef\u001b[0m \u001b[0mlinear_regression\u001b[0m\u001b[0;34m(\u001b[0m\u001b[0mintercept\u001b[0m\u001b[0;34m,\u001b[0m \u001b[0mslope\u001b[0m \u001b[0;34m=\u001b[0m \u001b[0mslope\u001b[0m\u001b[0;34m,\u001b[0m \u001b[0mfeatures\u001b[0m\u001b[0;34m=\u001b[0m\u001b[0mfeatures\u001b[0m\u001b[0;34m)\u001b[0m\u001b[0;34m:\u001b[0m\u001b[0;34m\u001b[0m\u001b[0;34m\u001b[0m\u001b[0m\n\u001b[0m\u001b[1;32m      2\u001b[0m   \u001b[0;32mreturn\u001b[0m \u001b[0mintercept\u001b[0m\u001b[0;34m+\u001b[0m\u001b[0mfeatures\u001b[0m\u001b[0;34m*\u001b[0m\u001b[0mslope\u001b[0m\u001b[0;34m\u001b[0m\u001b[0;34m\u001b[0m\u001b[0m\n",
            "\u001b[0;31mNameError\u001b[0m: name 'slope' is not defined"
          ]
        }
      ]
    },
    {
      "cell_type": "code",
      "source": [
        "import tensorflow as tf\n",
        "\n",
        "# Define targets and predictions with sample data\n",
        "targets = tf.constant([1.0, 2.0, 3.0, 4.0])  # Example target values\n",
        "predictions = tf.constant([1.2, 1.9, 3.1, 3.9])  # Example prediction values\n",
        "\n",
        "# Calculate the mean of targets and predictions\n",
        "mean_targets = tf.reduce_mean(targets)\n",
        "mean_predictions = tf.reduce_mean(predictions)\n",
        "\n",
        "# Calculate the slope using the formula:\n",
        "# slope = sum((x_i - mean(x)) * (y_i - mean(y))) / sum((x_i - mean(x))^2)\n",
        "# where x_i are predictions and y_i are targets\n",
        "numerator = tf.reduce_sum((predictions - mean_predictions) * (targets - mean_targets))\n",
        "denominator = tf.reduce_sum(tf.square(predictions - mean_predictions))\n",
        "\n",
        "slope = numerator / denominator\n",
        "\n",
        "# Now you can use this 'slope' value in your linear_regression function\n",
        "def linear_regression(intercept, slope=slope, features=None):\n",
        "  \"\"\"\n",
        "  Calculates a linear regression.\n",
        "\n",
        "  Args:\n",
        "    intercept: The intercept of the line.\n",
        "    slope: The slope of the line. Defaults to the calculated slope.\n",
        "    features: The features to use in the regression. Defaults to None.\n",
        "\n",
        "  Returns:\n",
        "    The result of the linear regression.\n",
        "  \"\"\"\n",
        "  if features is None:\n",
        "    raise ValueError(\"'features' must be provided if not set as a default argument.\")\n",
        "  return intercept + features * slope\n",
        "\n",
        "# Example usage:\n",
        "my_intercept = 2\n",
        "my_features = 5\n",
        "\n",
        "result = linear_regression(my_intercept, features=my_features)  # Using the calculated slope\n",
        "print(result.numpy())"
      ],
      "metadata": {
        "colab": {
          "base_uri": "https://localhost:8080/"
        },
        "id": "WPi33Z9q2agA",
        "outputId": "2269c4c1-7958-488c-fb77-5ea5aa953857"
      },
      "execution_count": 5,
      "outputs": [
        {
          "output_type": "stream",
          "name": "stdout",
          "text": [
            "7.323411\n"
          ]
        }
      ]
    },
    {
      "cell_type": "code",
      "source": [
        "# Import the keras module from tensorflow\n",
        "from tensorflow import keras\n",
        ""
      ],
      "metadata": {
        "id": "f3LCVquk39Jr"
      },
      "execution_count": 6,
      "outputs": []
    },
    {
      "cell_type": "code",
      "source": [
        "\n",
        "\n",
        "import tensorflow as tf\n",
        "\n",
        "# Create a sample input tensor\n",
        "input_tensor = tf.constant([[1.0, 2.0, 3.0], [4.0, 5.0, 6.0]])\n",
        "\n",
        "# Create a Dropout layer with a rate of 0.5\n",
        "dropout_layer = tf.keras.layers.Dropout(0.5)\n",
        "\n",
        "# Apply the dropout layer to the input tensor during training\n",
        "output_tensor = dropout_layer(input_tensor, training=True)\n",
        "\n",
        "# Print the output tensor\n",
        "print(output_tensor.numpy())\n"
      ],
      "metadata": {
        "colab": {
          "base_uri": "https://localhost:8080/"
        },
        "id": "_3NYG2cvFO6V",
        "outputId": "f5ee3a9c-e12a-45ea-92a8-c9ad2427d4b5"
      },
      "execution_count": 1,
      "outputs": [
        {
          "output_type": "stream",
          "name": "stdout",
          "text": [
            "[[0. 4. 6.]\n",
            " [8. 0. 0.]]\n"
          ]
        }
      ]
    }
  ]
}